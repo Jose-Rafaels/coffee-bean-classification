{
 "cells": [
  {
   "cell_type": "code",
   "execution_count": 15,
   "id": "69e774a7-d59f-4093-9250-01053d663864",
   "metadata": {},
   "outputs": [
    {
     "name": "stderr",
     "output_type": "stream",
     "text": [
      "WARNING:absl:Compiled the loaded model, but the compiled metrics have yet to be built. `model.compile_metrics` will be empty until you train or evaluate the model.\n",
      "WARNING:absl:Compiled the loaded model, but the compiled metrics have yet to be built. `model.compile_metrics` will be empty until you train or evaluate the model.\n"
     ]
    },
    {
     "name": "stdout",
     "output_type": "stream",
     "text": [
      "\u001b[1m1/1\u001b[0m \u001b[32m━━━━━━━━━━━━━━━━━━━━\u001b[0m\u001b[37m\u001b[0m \u001b[1m1s\u001b[0m 531ms/step\n",
      "\u001b[1m1/1\u001b[0m \u001b[32m━━━━━━━━━━━━━━━━━━━━\u001b[0m\u001b[37m\u001b[0m \u001b[1m2s\u001b[0m 2s/step\n",
      "Predicted Class by VGG16: Dark 99.66%\n",
      "Predicted Class by Inception: Dark 94.74%\n"
     ]
    }
   ],
   "source": [
    "from keras.models import load_model\n",
    "from keras.preprocessing.image import load_img, img_to_array\n",
    "import numpy as np\n",
    "\n",
    "# Load both models\n",
    "model_vgg16 = load_model('cofee_model_vgg16.h5')\n",
    "model_inception = load_model('coffee_model_inceptionV3.h5')\n",
    "\n",
    "# Load and preprocess the image for VGG16\n",
    "image_vgg16 = load_img('C:/Users/ASUS/Downloads/Folder Khusus Skripsi/codingan VGG16 dan InceptionV3/Dataset Biji Kopi_Skripsi/test/Dark/7.png', target_size=(224, 224))\n",
    "img_vgg16 = np.array(image_vgg16)\n",
    "img_vgg16 = img_vgg16 / 255.0\n",
    "img_vgg16 = img_vgg16.reshape(1, 224, 224, 3)\n",
    "\n",
    "# Load and preprocess the image for InceptionV3\n",
    "image_inception = load_img('C:/Users/ASUS/Downloads/Folder Khusus Skripsi/codingan VGG16 dan InceptionV3/Dataset Biji Kopi_Skripsi/test/Dark/7.png', target_size=(299, 299))\n",
    "img_inception = np.array(image_inception)\n",
    "img_inception = img_inception / 255.0\n",
    "img_inception = img_inception.reshape(1, 299, 299, 3)\n",
    "\n",
    "# Predict the class probabilities using both models\n",
    "label_vgg16 = model_vgg16.predict(img_vgg16)\n",
    "label_inception = model_inception.predict(img_inception)\n",
    "\n",
    "# Decode the predictions\n",
    "classes = ['Dark', 'Green', 'Light', 'Medium']\n",
    "predicted_class_vgg16 = classes[np.argmax(label_vgg16)]\n",
    "predicted_class_inception = classes[np.argmax(label_inception)]\n",
    "\n",
    "# Calculate the percentages\n",
    "percentage_vgg16 = np.max(label_vgg16) * 100\n",
    "percentage_inception = np.max(label_inception) * 100\n",
    "\n",
    "# Print the results with percentages\n",
    "print(f\"Predicted Class by VGG16: {predicted_class_vgg16} {percentage_vgg16:.2f}%\")\n",
    "print(f\"Predicted Class by Inception: {predicted_class_inception} {percentage_inception:.2f}%\")\n"
   ]
  },
  {
   "cell_type": "code",
   "execution_count": null,
   "id": "611ad143-80d5-4151-8ef6-14c1fd1b5a19",
   "metadata": {},
   "outputs": [],
   "source": []
  }
 ],
 "metadata": {
  "kernelspec": {
   "display_name": "Python 3 (ipykernel)",
   "language": "python",
   "name": "python3"
  },
  "language_info": {
   "codemirror_mode": {
    "name": "ipython",
    "version": 3
   },
   "file_extension": ".py",
   "mimetype": "text/x-python",
   "name": "python",
   "nbconvert_exporter": "python",
   "pygments_lexer": "ipython3",
   "version": "3.11.7"
  }
 },
 "nbformat": 4,
 "nbformat_minor": 5
}
